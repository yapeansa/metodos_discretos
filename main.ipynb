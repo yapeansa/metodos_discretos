{
 "cells": [
  {
   "cell_type": "code",
   "execution_count": 65,
   "id": "2e87b4a8",
   "metadata": {},
   "outputs": [],
   "source": [
    "import numpy as np"
   ]
  },
  {
   "cell_type": "code",
   "execution_count": 66,
   "id": "fd88b451",
   "metadata": {},
   "outputs": [],
   "source": [
    "def P(x, y):\n",
    "    return 2 + 2*x + y + 2*(x**2) + (0.5)*y**2\n",
    "\n",
    "def f(x, y):\n",
    "    return np.exp(2*x) + np.exp(y)"
   ]
  },
  {
   "cell_type": "code",
   "execution_count": 67,
   "id": "d922a763",
   "metadata": {},
   "outputs": [],
   "source": [
    "ans = P(0.5, 0.1)\n",
    "func = f(0.5, 0.1)"
   ]
  },
  {
   "cell_type": "code",
   "execution_count": 68,
   "id": "46550f00",
   "metadata": {},
   "outputs": [
    {
     "name": "stdout",
     "output_type": "stream",
     "text": [
      "3.605\n",
      "3.8235\n"
     ]
    }
   ],
   "source": [
    "print(f'{ans:.5}')\n",
    "print(f'{func:.5}')"
   ]
  },
  {
   "cell_type": "code",
   "execution_count": 69,
   "id": "94be3bb8",
   "metadata": {},
   "outputs": [
    {
     "name": "stdout",
     "output_type": "stream",
     "text": [
      "0.2185\n"
     ]
    }
   ],
   "source": [
    "erro = np.abs(ans - func) \n",
    "print(f'{erro:.4}')"
   ]
  }
 ],
 "metadata": {
  "kernelspec": {
   "display_name": "Python 3",
   "language": "python",
   "name": "python3"
  },
  "language_info": {
   "codemirror_mode": {
    "name": "ipython",
    "version": 3
   },
   "file_extension": ".py",
   "mimetype": "text/x-python",
   "name": "python",
   "nbconvert_exporter": "python",
   "pygments_lexer": "ipython3",
   "version": "3.12.3"
  }
 },
 "nbformat": 4,
 "nbformat_minor": 5
}
